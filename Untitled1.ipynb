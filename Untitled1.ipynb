{
 "cells": [
  {
   "cell_type": "code",
   "execution_count": null,
   "id": "9bd59af0-c76c-4382-9fa4-62c8f80a15f0",
   "metadata": {},
   "outputs": [
    {
     "name": "stdout",
     "output_type": "stream",
     "text": [
      "Chat dumped to output\\tsp\\generate_problem_state\\background.txt\n",
      "Try to chat 1 time: Expecting value: line 1 column 1 (char 0)\n",
      "Try to chat 2 time: Expecting value: line 1 column 1 (char 0)\n",
      "Try to chat 3 time: Expecting value: line 1 column 1 (char 0)\n",
      "Try to chat 4 time: Expecting value: line 1 column 1 (char 0)\n",
      "Try to chat 5 time: Expecting value: line 1 column 1 (char 0)\n",
      "Try to chat 6 time: Expecting value: line 1 column 1 (char 0)\n",
      "Try to chat 7 time: Expecting value: line 1 column 1 (char 0)\n",
      "Try to chat 8 time: Expecting value: line 1 column 1 (char 0)\n",
      "Try to chat 9 time: Expecting value: line 1 column 1 (char 0)\n",
      "Try to chat 10 time: Expecting value: line 1 column 1 (char 0)\n",
      "Try to chat 11 time: Expecting value: line 1 column 1 (char 0)\n",
      "Try to chat 12 time: Expecting value: line 1 column 1 (char 0)\n",
      "Try to chat 13 time: Expecting value: line 1 column 1 (char 0)\n",
      "Try to chat 14 time: Expecting value: line 1 column 1 (char 0)\n",
      "Try to chat 15 time: Expecting value: line 1 column 1 (char 0)\n",
      "Try to chat 16 time: Expecting value: line 1 column 1 (char 0)\n"
     ]
    }
   ],
   "source": [
    "import argparse\n",
    "import os\n",
    "from src.pipeline.problem_state_generator import ProblemStateGenerator\n",
    "from src.util.llm_client.get_llm_client import get_llm_client\n",
    "\n",
    "# 手动定义参数（替代命令行输入）\n",
    "problem = \"tsp\"  # 替换为实际问题名称\n",
    "smoke_test = True  # 或False，是否启用冒烟测试\n",
    "llm_config_file = os.path.join(\"output\", \"llm_config\", \"azure_gpt_4o.json\")  # LLM配置文件路径\n",
    "\n",
    "# 初始化配置\n",
    "prompt_dir = os.path.join(\"src\", \"problems\", \"base\", \"prompt\")\n",
    "output_dir = os.path.join(\"output\", problem, \"generate_problem_state\")\n",
    "\n",
    "# 创建LLM客户端\n",
    "llm_client = get_llm_client(llm_config_file, prompt_dir, output_dir)\n",
    "\n",
    "# 生成问题状态\n",
    "problem_state_generator = ProblemStateGenerator(llm_client=llm_client, problem=problem)\n",
    "result = problem_state_generator.generate_problem_state(smoke_test=smoke_test)\n",
    "\n",
    "# 可选：查看生成结果\n",
    "print(f\"问题状态生成完成，结果保存至：{result}\")"
   ]
  },
  {
   "cell_type": "code",
   "execution_count": null,
   "id": "1ec45c19-786a-401e-84ba-38ddd7b30f1b",
   "metadata": {},
   "outputs": [],
   "source": []
  }
 ],
 "metadata": {
  "kernelspec": {
   "display_name": "Python 3 (ipykernel)",
   "language": "python",
   "name": "python3"
  },
  "language_info": {
   "codemirror_mode": {
    "name": "ipython",
    "version": 3
   },
   "file_extension": ".py",
   "mimetype": "text/x-python",
   "name": "python",
   "nbconvert_exporter": "python",
   "pygments_lexer": "ipython3",
   "version": "3.11.7"
  }
 },
 "nbformat": 4,
 "nbformat_minor": 5
}
